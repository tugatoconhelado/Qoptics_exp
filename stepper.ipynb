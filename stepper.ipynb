{
 "cells": [
  {
   "cell_type": "code",
   "execution_count": 1,
   "metadata": {
    "notebookRunGroups": {
     "groupValue": "1"
    }
   },
   "outputs": [
    {
     "name": "stdout",
     "output_type": "stream",
     "text": [
      "Requirement already satisfied: PySide2 in c:\\users\\lenovo\\desktop\\uc\\lab maze\\.venv\\lib\\site-packages (5.15.2.1)\n",
      "Requirement already satisfied: shiboken2==5.15.2.1 in c:\\users\\lenovo\\desktop\\uc\\lab maze\\.venv\\lib\\site-packages (from PySide2) (5.15.2.1)\n",
      "Note: you may need to restart the kernel to use updated packages.\n"
     ]
    }
   ],
   "source": [
    "%pip install PySide2"
   ]
  },
  {
   "cell_type": "markdown",
   "metadata": {},
   "source": [
    "***Imports***"
   ]
  },
  {
   "cell_type": "code",
   "execution_count": 1,
   "metadata": {
    "notebookRunGroups": {
     "groupValue": "1"
    }
   },
   "outputs": [],
   "source": [
    "import sys\n",
    "from PySide2.QtWidgets import (\n",
    "    QApplication, QWidget, QVBoxLayout, QComboBox, QPushButton, QLabel, QMessageBox\n",
    ")"
   ]
  },
  {
   "cell_type": "markdown",
   "metadata": {},
   "source": [
    "**HUD**"
   ]
  },
  {
   "cell_type": "code",
   "execution_count": 2,
   "metadata": {},
   "outputs": [
    {
     "ename": "SystemExit",
     "evalue": "0",
     "output_type": "error",
     "traceback": [
      "An exception has occurred, use %tb to see the full traceback.\n",
      "\u001b[1;31mSystemExit\u001b[0m\u001b[1;31m:\u001b[0m 0\n"
     ]
    },
    {
     "name": "stderr",
     "output_type": "stream",
     "text": [
      "c:\\EXP\\python\\Qoptics_exp\\venv\\lib\\site-packages\\IPython\\core\\interactiveshell.py:3585: UserWarning: To exit: use 'exit', 'quit', or Ctrl-D.\n",
      "  warn(\"To exit: use 'exit', 'quit', or Ctrl-D.\", stacklevel=1)\n"
     ]
    }
   ],
   "source": [
    "class HUD(QWidget):\n",
    "    def __init__(self):\n",
    "        super().__init__()\n",
    "\n",
    "        # Set up the main layout\n",
    "        self.setWindowTitle(\"Stepper Motor Controller\")\n",
    "        self.setGeometry(300, 300, 400, 150)\n",
    "\n",
    "        layout = QVBoxLayout()\n",
    "\n",
    "        # Add dropdown lists (QComboBox)\n",
    "        self.dropdown_1 = QComboBox()\n",
    "        self.dropdown_1.addItems([\"Forward\", \"Backward\"])\n",
    "\n",
    "        self.dropdown_2 = QComboBox()\n",
    "        self.dropdown_2.addItems([\"1\", \"10\", \"100\", \"1000\"])\n",
    "\n",
    "        # Add labels and dropdowns to the layout\n",
    "        layout.addWidget(QLabel(\"Choose Direction\"))\n",
    "        layout.addWidget(self.dropdown_1)\n",
    "\n",
    "        layout.addWidget(QLabel(\"Choose Number of Steps:\"))\n",
    "        layout.addWidget(self.dropdown_2)\n",
    "\n",
    "        # Add a button that triggers some action\n",
    "        action_button = QPushButton(\"Initialize Action\")\n",
    "        action_button.clicked.connect(self.initialize_action)\n",
    "\n",
    "        layout.addWidget(action_button)\n",
    "\n",
    "        # Set the main layout to the window\n",
    "        self.setLayout(layout)\n",
    "\n",
    "\n",
    "    def initialize_action(self):\n",
    "        # Get the current selections from the dropdowns\n",
    "        self.direction = self.dropdown_1.currentText()\n",
    "        self.steps = self.dropdown_2.currentText()\n",
    "\n",
    "        self.move_motor()\n",
    "\n",
    "    def show_message(self, message):\n",
    "        # Show a message box with the result\n",
    "        msg_box = QMessageBox()\n",
    "        msg_box.setText(message)\n",
    "        msg_box.exec_()\n",
    "\n",
    "    def move_motor(self):\n",
    "        if self.direction == 'Forward':\n",
    "            for i in range(int(self.steps)):\n",
    "                #Código de Avance\n",
    "                print('Advancing Forwards...')\n",
    "        else:\n",
    "            for i in range(int(self.steps)):\n",
    "                #Código de Retroceso\n",
    "                print('Advancing Backwards...')\n",
    "\n",
    "\n",
    "\n",
    "\n",
    "if __name__ == \"__main__\":\n",
    "    # Check if a QApplication already exists\n",
    "    app = QApplication.instance()\n",
    "    if app is None:\n",
    "        app = QApplication(sys.argv)\n",
    "\n",
    "    hud = HUD()\n",
    "    hud.show()\n",
    "\n",
    "    sys.exit(app.exec_())"
   ]
  },
  {
   "cell_type": "code",
   "execution_count": null,
   "metadata": {},
   "outputs": [],
   "source": [
    "def test_func():\n",
    "    with nidaqmx.Task() as task:\n",
    "        task.do_channels.add_do_chan('Dev2/port1/line0:2',  line_grouping=nidaqmx.constants.LineGrouping.CHAN_PER_LINE)\n",
    "        task.start()\n",
    "\n",
    "        steps = 100\n",
    "        direction = 0\n",
    "\n",
    "        while True:\n",
    "            interval = 0.0001\n",
    "            task.write([True, True, True])\n",
    "            time.sleep(interval)\n",
    "            task.write([False, False, False])\n",
    "            time.sleep(interval)\n",
    "\n",
    "            if msvcrt.kbhit(): # Check the keyboard and exit if any key pressed.\n",
    "                key_stroke = msvcrt.getch()\n",
    "                print(key_stroke) # will print which key is pressed.\n",
    "                if key_stroke:\n",
    "                    break\n",
    "'''\n",
    "        for i in range(steps):\n",
    "            interval = 0.0001\n",
    "            if direction == 1:\n",
    "                print('Moving forward...')\n",
    "                #Retrocede solo si en ambas ocasiones DIR es True\n",
    "                task.write([True, True, True])\n",
    "                time.sleep(interval)\n",
    "                task.write([False, False, False])\n",
    "                time.sleep(interval)\n",
    "\n",
    "            else:\n",
    "                print('Moving backward...')\n",
    "                task.write([True, True, True])\n",
    "                time.sleep(interval)\n",
    "                task.write([False, True, False])\n",
    "                time.sleep(interval)\n",
    "\n",
    "                \n",
    "                '''\n",
    "                \n",
    "test_func()"
   ]
  }
 ],
 "metadata": {
  "kernelspec": {
   "display_name": "venv",
   "language": "python",
   "name": "python3"
  },
  "language_info": {
   "codemirror_mode": {
    "name": "ipython",
    "version": 3
   },
   "file_extension": ".py",
   "mimetype": "text/x-python",
   "name": "python",
   "nbconvert_exporter": "python",
   "pygments_lexer": "ipython3",
   "version": "3.10.11"
  }
 },
 "nbformat": 4,
 "nbformat_minor": 2
}
