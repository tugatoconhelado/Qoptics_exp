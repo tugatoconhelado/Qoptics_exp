{
 "cells": [
  {
   "cell_type": "code",
   "execution_count": 13,
   "metadata": {
    "notebookRunGroups": {
     "groupValue": "1"
    }
   },
   "outputs": [
    {
     "name": "stdout",
     "output_type": "stream",
     "text": [
      "COM1 Communications Port (COM1) ACPI\\PNP0501\\0\n",
      "COM2 Communications Port (COM2) ACPI\\PNP0501\\1\n",
      "COM3 Arduino Uno (COM3) USB VID:PID=2A03:0043 SER=854393032333FF01B162 LOCATION=1-10\n"
     ]
    }
   ],
   "source": [
    "import serial\n",
    "import serial.tools.list_ports\n",
    "\n",
    "serial.tools.list_ports.comports()\n",
    "for port, desc, hwid in serial.tools.list_ports.comports():\n",
    "    print(port, desc, hwid)"
   ]
  },
  {
   "cell_type": "code",
   "execution_count": 8,
   "metadata": {},
   "outputs": [
    {
     "data": {
      "text/plain": [
       "b'Amount of steps: 555\\r\\n'"
      ]
     },
     "execution_count": 8,
     "metadata": {},
     "output_type": "execute_result"
    }
   ],
   "source": [
    "ser.write(b'555\\n')\n",
    "ser.readline()"
   ]
  },
  {
   "cell_type": "code",
   "execution_count": 9,
   "metadata": {},
   "outputs": [],
   "source": [
    "ser.close()"
   ]
  },
  {
   "cell_type": "code",
   "execution_count": 16,
   "metadata": {},
   "outputs": [
    {
     "name": "stdout",
     "output_type": "stream",
     "text": [
      "STOPPED_ON_OVERFLOW 1\n",
      "OVERFLOW 2\n",
      "STOPPED_ON_COLLECT_TIME 4\n",
      "COLLECT_TIME_ELAPSED 8\n",
      "STOPPED_ON_COMMAND 16\n",
      "REPEAT_TIME_ELAPSED 32\n",
      "ARMED 128\n",
      "COLLECT_TIME_ELAPSED_2ND_TIME 256\n",
      "REPEAT_TIME_ELAPSED_2ND_TIME 512\n",
      "FIFO_OVERFLOW 1024\n",
      "FIFO_EMPTY 2048\n",
      "WAITING_FOR_FRAME 8192\n",
      "MEASUREMENT_ACTIVE 64\n",
      "WAITING_FOR_TRIGGER 4096\n",
      "HARDWARE_FILL_NOT_READY 32768\n",
      "STOPPED_BY_SEQUENCER 16384\n"
     ]
    }
   ],
   "source": [
    "from bh_spc import spcm\n",
    "\n",
    "for e in spcm.MeasurementState:\n",
    "    print(e.name, e.value)"
   ]
  }
 ],
 "metadata": {
  "kernelspec": {
   "display_name": "venv",
   "language": "python",
   "name": "python3"
  },
  "language_info": {
   "codemirror_mode": {
    "name": "ipython",
    "version": 3
   },
   "file_extension": ".py",
   "mimetype": "text/x-python",
   "name": "python",
   "nbconvert_exporter": "python",
   "pygments_lexer": "ipython3",
   "version": "3.10.11"
  }
 },
 "nbformat": 4,
 "nbformat_minor": 2
}
