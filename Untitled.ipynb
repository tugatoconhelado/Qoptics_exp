{
 "cells": [
  {
   "cell_type": "code",
   "execution_count": 28,
   "id": "5c141edc-87e4-4082-8a4e-6aaa5b0e1a55",
   "metadata": {},
   "outputs": [],
   "source": [
    "import h5py\n",
    "import numpy as np\n",
    "import time\n",
    "import os"
   ]
  },
  {
   "cell_type": "code",
   "execution_count": 29,
   "id": "5b960dee-1a66-4263-84e0-dac7d30e709d",
   "metadata": {},
   "outputs": [],
   "source": [
    "arr = np.random.randn(1000)\n",
    "with h5py.File('random.hdf5', 'w') as f:\n",
    "    dset = f.create_dataset(\"default\", data=arr)"
   ]
  },
  {
   "cell_type": "code",
   "execution_count": 9,
   "id": "88525e0e",
   "metadata": {},
   "outputs": [
    {
     "name": "stdout",
     "output_type": "stream",
     "text": [
      "-3.895346320080814\n",
      "3.407271380043981\n",
      "[-0.56805975 -0.41090073 -1.23427925 -0.19985812 -0.47130943  1.68774253\n",
      " -0.73649067  1.54751415 -0.94379431 -0.18302134  1.33757807  0.20017938\n",
      "  1.48603947  0.79973762  0.63501813]\n",
      "<class 'numpy.ndarray'>\n",
      "default\n"
     ]
    }
   ],
   "source": [
    "with h5py.File('random.hdf5', 'r') as f:\n",
    "   data = f['default'][()]\n",
    "   print(min(data))\n",
    "   print(max(data))\n",
    "   print(data[:15])\n",
    "   print(type(data))\n",
    "   for key in f.keys():\n",
    "    print(key)"
   ]
  },
  {
   "cell_type": "code",
   "execution_count": 11,
   "id": "8abec99a",
   "metadata": {},
   "outputs": [],
   "source": [
    "arr1 = np.random.randn(10000)\n",
    "arr2 = np.random.randn(10000)\n",
    "\n",
    "with h5py.File('complex_read.hdf5', 'w') as f:\n",
    "    f.create_dataset('array_1', data=arr1)\n",
    "    f.create_dataset('array_2', data=arr2)"
   ]
  },
  {
   "cell_type": "code",
   "execution_count": 13,
   "id": "7373fb6c",
   "metadata": {},
   "outputs": [],
   "source": [
    "with h5py.File('complex_read.hdf5', 'r') as f:\n",
    "    d1 = f['array_1']\n",
    "    d2 = f['array_2']\n",
    "\n",
    "    data = d2[d1[()]>0]"
   ]
  },
  {
   "cell_type": "code",
   "execution_count": 14,
   "id": "9b7ae1ed",
   "metadata": {},
   "outputs": [],
   "source": [
    "with h5py.File('several_datasets.hdf5', 'w') as f:\n",
    "   dset_int_1 = f.create_dataset('integers', (10, ), dtype='i1')\n",
    "   dset_int_8 = f.create_dataset('integers8', (10, ), dtype='i8')\n",
    "   dset_complex = f.create_dataset('complex', (10, ), dtype='c16')\n",
    "\n",
    "   dset_int_1[0] = 1200\n",
    "   dset_int_8[0] = 1200.1\n",
    "   dset_complex[0] = 3 + 4j"
   ]
  },
  {
   "cell_type": "code",
   "execution_count": 15,
   "id": "565fec52",
   "metadata": {},
   "outputs": [],
   "source": [
    "arr = np.random.randn(1000)\n",
    "\n",
    "with h5py.File('groups.hdf5', 'w') as f:\n",
    "    g = f.create_group('Base_Group')\n",
    "    gg = g.create_group('Sub_Group')\n",
    "\n",
    "    d = g.create_dataset('default', data=arr)\n",
    "    dd = gg.create_dataset('default', data=arr)"
   ]
  },
  {
   "cell_type": "code",
   "execution_count": 16,
   "id": "2ea42ce8",
   "metadata": {},
   "outputs": [
    {
     "name": "stdout",
     "output_type": "stream",
     "text": [
      "Base_Group\n"
     ]
    }
   ],
   "source": [
    "with h5py.File('groups.hdf5', 'r') as f:\n",
    "    for k in f.keys():\n",
    "        print(k)"
   ]
  },
  {
   "cell_type": "code",
   "execution_count": 17,
   "id": "7f4ba310",
   "metadata": {},
   "outputs": [
    {
     "name": "stdout",
     "output_type": "stream",
     "text": [
      "Base_Group\n",
      "Base_Group/Sub_Group\n",
      "Base_Group/Sub_Group/default\n",
      "Base_Group/default\n"
     ]
    }
   ],
   "source": [
    "def get_all(name):\n",
    "   print(name)\n",
    "\n",
    "with h5py.File('groups.hdf5', 'r') as f:\n",
    "   f.visit(get_all)"
   ]
  },
  {
   "cell_type": "code",
   "execution_count": 18,
   "id": "dffb03cb",
   "metadata": {},
   "outputs": [
    {
     "name": "stdout",
     "output_type": "stream",
     "text": [
      "First data element: 0.03082925700126786\n"
     ]
    }
   ],
   "source": [
    "def get_objects(name, obj):\n",
    "   if 'Sub_Group' in name:\n",
    "      return obj\n",
    "\n",
    "with h5py.File('groups.hdf5', 'r') as f:\n",
    "   group = f.visititems(get_objects)\n",
    "   data = group['default']\n",
    "   print('First data element: {}'.format(data[0]))"
   ]
  },
  {
   "cell_type": "code",
   "execution_count": 33,
   "id": "4d7147fb",
   "metadata": {},
   "outputs": [
    {
     "name": "stdout",
     "output_type": "stream",
     "text": [
      "Date => 1710437572.9137483\n",
      "OS => nt\n",
      "User => Me\n"
     ]
    }
   ],
   "source": [
    "with h5py.File('groups.hdf5', 'w') as f:\n",
    "   g = f.create_group('Base_Group')\n",
    "   d = g.create_dataset('default', data=arr)\n",
    "\n",
    "   metadata = {'Date': time.time(),\n",
    "      'User': 'Me',\n",
    "      'OS': os.name,}\n",
    "\n",
    "   f.attrs.update(metadata)\n",
    "   g.attrs.update(metadata)\n",
    "   d.attrs.update(metadata)\n",
    "\n",
    "   for m in f.attrs.keys():\n",
    "      print('{} => {}'.format(m, f.attrs[m]))"
   ]
  },
  {
   "cell_type": "code",
   "execution_count": 34,
   "id": "0a5456d1",
   "metadata": {},
   "outputs": [
    {
     "name": "stdout",
     "output_type": "stream",
     "text": [
      "default\n"
     ]
    }
   ],
   "source": [
    "with h5py.File('groups.hdf5', 'r') as f:\n",
    "   group = f['Base_Group']\n",
    "   for name, set in group.items():\n",
    "      print(name)"
   ]
  },
  {
   "cell_type": "code",
   "execution_count": 30,
   "id": "19e4371e",
   "metadata": {},
   "outputs": [],
   "source": [
    "import json\n",
    "\n",
    "with h5py.File('groups_dict.hdf5', 'w') as f:\n",
    "    g = f.create_group('Base_Group')\n",
    "    d = g.create_dataset('default', data=arr)\n",
    "\n",
    "    metadata = {'Date': time.time(),\n",
    "                'User': 'Me',\n",
    "                'OS': os.name,}\n",
    "\n",
    "    m = g.create_dataset('metadata', data=json.dumps(metadata))"
   ]
  },
  {
   "cell_type": "code",
   "execution_count": 31,
   "id": "c11bd05e",
   "metadata": {},
   "outputs": [
    {
     "name": "stdout",
     "output_type": "stream",
     "text": [
      "Date => 1710437527.1439066\n",
      "User => Me\n",
      "OS => nt\n"
     ]
    }
   ],
   "source": [
    "with h5py.File('groups_dict.hdf5', 'r') as f:\n",
    "    metadata = json.loads(f['Base_Group/metadata'][()])\n",
    "    for k in metadata:\n",
    "        print('{} => {}'.format(k, metadata[k]))"
   ]
  },
  {
   "cell_type": "code",
   "execution_count": 32,
   "id": "fa1ba590",
   "metadata": {},
   "outputs": [
    {
     "name": "stdout",
     "output_type": "stream",
     "text": [
      "Date => 1710437527.1439066\n",
      "User => Me\n",
      "OS => nt\n"
     ]
    }
   ],
   "source": [
    "with h5py.File('groups_dict.hdf5', 'r') as f:\n",
    "    metadata = json.loads(f['Base_Group/metadata'][()])\n",
    "    for k in metadata:\n",
    "        print('{} => {}'.format(k, metadata[k]))"
   ]
  }
 ],
 "metadata": {
  "kernelspec": {
   "display_name": "venv",
   "language": "python",
   "name": "python3"
  },
  "language_info": {
   "codemirror_mode": {
    "name": "ipython",
    "version": 3
   },
   "file_extension": ".py",
   "mimetype": "text/x-python",
   "name": "python",
   "nbconvert_exporter": "python",
   "pygments_lexer": "ipython3",
   "version": "3.10.11"
  }
 },
 "nbformat": 4,
 "nbformat_minor": 5
}
