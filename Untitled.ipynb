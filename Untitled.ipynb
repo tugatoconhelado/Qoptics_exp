{
 "cells": [
  {
   "cell_type": "code",
   "execution_count": 4,
   "id": "7c3bce9e",
   "metadata": {},
   "outputs": [],
   "source": [
    "from seabreeze.spectrometers import Spectrometer, list_devices"
   ]
  },
  {
   "cell_type": "code",
   "execution_count": 12,
   "id": "ef30fea0",
   "metadata": {},
   "outputs": [
    {
     "name": "stdout",
     "output_type": "stream",
     "text": [
      "[<SeaBreezeDevice QE-PRO:QEP00179>]\n"
     ]
    }
   ],
   "source": [
    "devices = list_devices()\n",
    "print(devices)\n",
    "spectrometer = Spectrometer(devices[0])\n",
    "spectrometer.close()"
   ]
  }
 ],
 "metadata": {
  "kernelspec": {
   "display_name": "venv",
   "language": "python",
   "name": "python3"
  },
  "language_info": {
   "codemirror_mode": {
    "name": "ipython",
    "version": 3
   },
   "file_extension": ".py",
   "mimetype": "text/x-python",
   "name": "python",
   "nbconvert_exporter": "python",
   "pygments_lexer": "ipython3",
   "version": "3.10.11"
  }
 },
 "nbformat": 4,
 "nbformat_minor": 5
}
