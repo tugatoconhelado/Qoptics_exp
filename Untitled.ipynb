{
 "cells": [
  {
   "cell_type": "code",
   "execution_count": 1,
   "id": "7c3bce9e",
   "metadata": {},
   "outputs": [],
   "source": [
    "import pyvisa"
   ]
  },
  {
   "cell_type": "code",
   "execution_count": 2,
   "id": "ef30fea0",
   "metadata": {},
   "outputs": [
    {
     "data": {
      "text/plain": [
       "('ASRL1::INSTR', 'ASRL2::INSTR', 'ASRL10::INSTR', 'GPIB0::27::INSTR')"
      ]
     },
     "execution_count": 2,
     "metadata": {},
     "output_type": "execute_result"
    }
   ],
   "source": [
    "resource_manager = pyvisa.ResourceManager()\n",
    "devices = resource_manager.list_resources()\n",
    "devices"
   ]
  },
  {
   "cell_type": "code",
   "execution_count": 3,
   "id": "965fc6d8",
   "metadata": {},
   "outputs": [
    {
     "data": {
      "text/plain": [
       "'GPIB0::27::INSTR'"
      ]
     },
     "execution_count": 3,
     "metadata": {},
     "output_type": "execute_result"
    }
   ],
   "source": [
    "address = ''\n",
    "for device in devices:\n",
    "    if '27' in device:\n",
    "        address = device\n",
    "address"
   ]
  },
  {
   "cell_type": "code",
   "execution_count": 4,
   "id": "db1a3b58",
   "metadata": {},
   "outputs": [
    {
     "data": {
      "text/plain": [
       "'Stanford Research Systems,SG384,s/n001175,ver1.03.0E'"
      ]
     },
     "execution_count": 4,
     "metadata": {},
     "output_type": "execute_result"
    }
   ],
   "source": [
    "instrument = resource_manager.open_resource(address)\n",
    "id = instrument.query('*IDN?').strip()\n",
    "id"
   ]
  },
  {
   "cell_type": "code",
   "execution_count": 5,
   "id": "76e1e3cb",
   "metadata": {},
   "outputs": [
    {
     "data": {
      "text/plain": [
       "'1\\r\\n'"
      ]
     },
     "execution_count": 5,
     "metadata": {},
     "output_type": "execute_result"
    }
   ],
   "source": [
    "completed = instrument.query('*OPC?')\n",
    "completed"
   ]
  },
  {
   "cell_type": "code",
   "execution_count": 6,
   "id": "7cfe732d",
   "metadata": {},
   "outputs": [
    {
     "data": {
      "text/plain": [
       "'7\\r\\n'"
      ]
     },
     "execution_count": 6,
     "metadata": {},
     "output_type": "execute_result"
    }
   ],
   "source": [
    "display = instrument.query('DISP?')\n",
    "display"
   ]
  },
  {
   "cell_type": "code",
   "execution_count": 14,
   "id": "0628f606",
   "metadata": {},
   "outputs": [
    {
     "data": {
      "text/plain": [
       "8"
      ]
     },
     "execution_count": 14,
     "metadata": {},
     "output_type": "execute_result"
    }
   ],
   "source": [
    "instrument.write('DISP 6')"
   ]
  },
  {
   "cell_type": "code",
   "execution_count": 157,
   "id": "0dbdaea7",
   "metadata": {},
   "outputs": [
    {
     "data": {
      "text/plain": [
       "12"
      ]
     },
     "execution_count": 157,
     "metadata": {},
     "output_type": "execute_result"
    }
   ],
   "source": [
    "instrument.write('FREQ 3 GHz')"
   ]
  },
  {
   "cell_type": "code",
   "execution_count": 24,
   "id": "7d7d4224",
   "metadata": {},
   "outputs": [
    {
     "data": {
      "text/plain": [
       "13"
      ]
     },
     "execution_count": 24,
     "metadata": {},
     "output_type": "execute_result"
    }
   ],
   "source": [
    "instrument.write('AMPR -2 dBm')"
   ]
  },
  {
   "cell_type": "code",
   "execution_count": 69,
   "id": "6940192d",
   "metadata": {},
   "outputs": [
    {
     "data": {
      "text/plain": [
       "14"
      ]
     },
     "execution_count": 69,
     "metadata": {},
     "output_type": "execute_result"
    }
   ],
   "source": [
    "instrument.write('SDEV 0.1 GHz')"
   ]
  },
  {
   "cell_type": "code",
   "execution_count": 160,
   "id": "fa91a98a",
   "metadata": {},
   "outputs": [
    {
     "data": {
      "text/plain": [
       "8"
      ]
     },
     "execution_count": 160,
     "metadata": {},
     "output_type": "execute_result"
    }
   ],
   "source": [
    "instrument.write('ENBR 0')"
   ]
  },
  {
   "cell_type": "code",
   "execution_count": 158,
   "id": "acb71ec9",
   "metadata": {},
   "outputs": [
    {
     "data": {
      "text/plain": [
       "'0\\r\\n'"
      ]
     },
     "execution_count": 158,
     "metadata": {},
     "output_type": "execute_result"
    }
   ],
   "source": [
    "instrument.query('ENBH?')"
   ]
  },
  {
   "cell_type": "code",
   "execution_count": 25,
   "id": "b483398e",
   "metadata": {},
   "outputs": [],
   "source": [
    "instrument.close()"
   ]
  }
 ],
 "metadata": {
  "kernelspec": {
   "display_name": "venv",
   "language": "python",
   "name": "python3"
  },
  "language_info": {
   "codemirror_mode": {
    "name": "ipython",
    "version": 3
   },
   "file_extension": ".py",
   "mimetype": "text/x-python",
   "name": "python",
   "nbconvert_exporter": "python",
   "pygments_lexer": "ipython3",
   "version": "3.10.11"
  }
 },
 "nbformat": 4,
 "nbformat_minor": 5
}
