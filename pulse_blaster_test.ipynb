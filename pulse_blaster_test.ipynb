{
 "cells": [
  {
   "cell_type": "code",
   "execution_count": 35,
   "id": "b5ba65e0",
   "metadata": {},
   "outputs": [],
   "source": [
    "def convert_to_binary(channel_tag,channel_count):\n",
    "    \"\"\" We need to conver the channel tag index into a binary number for the pulse blaster\n",
    "        it's better to do this now than later because, later would require for loops on the experiments methods\n",
    "        and it will be inneficient.\n",
    "\n",
    "        Given the total number of channels and a target channel_tag (index),\n",
    "        return the decimal value corresponding to only that channel being activated.\n",
    "\n",
    "        Args:\n",
    "            channel_count (int): Total number of channels (length of the bitmask).\n",
    "            channel_tag (int): Index of the channel to activate (0-based).\n",
    "\n",
    "        Returns:\n",
    "            int: Decimal value of the binary number with only channel_tag set to 1.\n",
    "        \"\"\"\n",
    "    if channel_tag >= channel_count or channel_tag < 0:\n",
    "        raise ValueError(\"channel_tag must be within the range of available channels.\")\n",
    "\n",
    "    binary = [0] * channel_count\n",
    "    binary[-(channel_tag + 1)] = 1  # Activate the correct bit from the right\n",
    "    binary_str = ''.join(map(str, binary))\n",
    "    decimal= int(binary_str, 2)\n",
    "    return decimal\n",
    "    "
   ]
  },
  {
   "cell_type": "code",
   "execution_count": 36,
   "id": "75592a4d",
   "metadata": {},
   "outputs": [
    {
     "name": "stdout",
     "output_type": "stream",
     "text": [
      "0b1000000000000000000\n",
      "14680064\n",
      "0b111001000000000000000000\n"
     ]
    }
   ],
   "source": [
    "value = convert_to_binary(18, 21)\n",
    "ON = 0xE00000\n",
    "ion_flag = int.from_bytes(on_flag, byteorder='little')\n",
    "bvalue = bin(value)\n",
    "print(bvalue)\n",
    "print(ON)\n",
    "print(bin(ON | value))"
   ]
  },
  {
   "cell_type": "code",
   "execution_count": 15,
   "id": "5c6f1ca3",
   "metadata": {},
   "outputs": [
    {
     "name": "stdout",
     "output_type": "stream",
     "text": [
      "Failed to load spinapi library.\n"
     ]
    },
    {
     "ename": "NameError",
     "evalue": "name 'spinapi' is not defined",
     "output_type": "error",
     "traceback": [
      "\u001b[0;31m---------------------------------------------------------------------------\u001b[0m",
      "\u001b[0;31mNameError\u001b[0m                                 Traceback (most recent call last)",
      "Cell \u001b[0;32mIn[15], line 1\u001b[0m\n\u001b[0;32m----> 1\u001b[0m \u001b[38;5;28;01mfrom\u001b[39;00m \u001b[38;5;21;01mqudi\u001b[39;00m\u001b[38;5;21;01m.\u001b[39;00m\u001b[38;5;21;01mhardware\u001b[39;00m \u001b[38;5;28;01mimport\u001b[39;00m spinapi\n",
      "File \u001b[0;32m~/Scripts/Qoptics_exp/src/qudi/hardware/spinapi.py:136\u001b[0m\n\u001b[1;32m    133\u001b[0m OVERFLOW_RESET \u001b[38;5;241m=\u001b[39m \u001b[38;5;241m0x4000\u001b[39m\n\u001b[1;32m    134\u001b[0m RAM_DIRECT \u001b[38;5;241m=\u001b[39m \u001b[38;5;241m0x8000\u001b[39m \u001b[38;5;241m|\u001b[39m BYPASS_CIC \u001b[38;5;241m|\u001b[39m BYPASS_FIR \u001b[38;5;241m|\u001b[39m BYPASS_MULT\n\u001b[0;32m--> 136\u001b[0m \u001b[43mspinapi\u001b[49m\u001b[38;5;241m.\u001b[39mpb_get_version\u001b[38;5;241m.\u001b[39mrestype \u001b[38;5;241m=\u001b[39m (ctypes\u001b[38;5;241m.\u001b[39mc_char_p)\n\u001b[1;32m    137\u001b[0m spinapi\u001b[38;5;241m.\u001b[39mpb_get_error\u001b[38;5;241m.\u001b[39mrestype \u001b[38;5;241m=\u001b[39m (ctypes\u001b[38;5;241m.\u001b[39mc_char_p)\n\u001b[1;32m    139\u001b[0m spinapi\u001b[38;5;241m.\u001b[39mpb_count_boards\u001b[38;5;241m.\u001b[39mrestype \u001b[38;5;241m=\u001b[39m (ctypes\u001b[38;5;241m.\u001b[39mc_int)\n",
      "\u001b[0;31mNameError\u001b[0m: name 'spinapi' is not defined"
     ]
    }
   ],
   "source": [
    "from qudi.hardware import spinapi"
   ]
  },
  {
   "cell_type": "code",
   "execution_count": 75,
   "id": "49058c99",
   "metadata": {},
   "outputs": [
    {
     "data": {
      "text/plain": [
       "0"
      ]
     },
     "execution_count": 75,
     "metadata": {},
     "output_type": "execute_result"
    }
   ],
   "source": [
    "spinapi.pb_close()\n",
    "spinapi.pb_select_board(0)\n",
    "spinapi.pb_init()\n",
    "spinapi.pb_reset()\n",
    "\n",
    "spinapi.pb_core_clock(500)\n",
    "\n",
    "spinapi.pb_start_programming(spinapi.PULSE_PROGRAM)\n",
    "start = spinapi.pb_inst_pbonly(spinapi.ON | 0x01, spinapi.CONTINUE, 0, 20.0 * spinapi.ms)\n",
    "spinapi.pb_inst_pbonly(0x00, spinapi.BRANCH, 0, 20.0 * spinapi.ms)\n",
    "\n",
    "spinapi.pb_stop_programming()\n",
    "spinapi.pb_start()\n",
    "\n",
    "\n",
    "spinapi.pb_stop()\n",
    "\n",
    "spinapi.pb_close()\n"
   ]
  },
  {
   "cell_type": "code",
   "execution_count": null,
   "id": "b7c6191d",
   "metadata": {},
   "outputs": [
    {
     "ename": "OSError",
     "evalue": "exception: access violation reading 0xFFFFFFFFFFFFFFFF",
     "output_type": "error",
     "traceback": [
      "\u001b[1;31m---------------------------------------------------------------------------\u001b[0m",
      "\u001b[1;31mOSError\u001b[0m                                   Traceback (most recent call last)",
      "Cell \u001b[1;32mIn[68], line 1\u001b[0m\n\u001b[1;32m----> 1\u001b[0m \u001b[43mspinapi\u001b[49m\u001b[38;5;241;43m.\u001b[39;49m\u001b[43mpb_stop\u001b[49m\u001b[43m(\u001b[49m\u001b[43m)\u001b[49m\n",
      "File \u001b[1;32mC:\\EXP\\python\\Qoptics_exp\\src\\qudi\\hardware\\spinapi.py:500\u001b[0m, in \u001b[0;36mpb_stop\u001b[1;34m()\u001b[0m\n\u001b[0;32m    499\u001b[0m \u001b[38;5;28;01mdef\u001b[39;00m \u001b[38;5;21mpb_stop\u001b[39m():\n\u001b[1;32m--> 500\u001b[0m     \u001b[38;5;28;01mreturn\u001b[39;00m \u001b[43mspinapi\u001b[49m\u001b[38;5;241;43m.\u001b[39;49m\u001b[43mpb_stop\u001b[49m\u001b[43m(\u001b[49m\u001b[43m)\u001b[49m\n",
      "\u001b[1;31mOSError\u001b[0m: exception: access violation reading 0xFFFFFFFFFFFFFFFF"
     ]
    }
   ],
   "source": []
  }
 ],
 "metadata": {
  "kernelspec": {
   "display_name": "qoptics_exp_env",
   "language": "python",
   "name": "python3"
  },
  "language_info": {
   "codemirror_mode": {
    "name": "ipython",
    "version": 3
   },
   "file_extension": ".py",
   "mimetype": "text/x-python",
   "name": "python",
   "nbconvert_exporter": "python",
   "pygments_lexer": "ipython3",
   "version": "3.10.14"
  }
 },
 "nbformat": 4,
 "nbformat_minor": 5
}
