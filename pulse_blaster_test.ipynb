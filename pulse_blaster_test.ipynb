{
 "cells": [
  {
   "cell_type": "code",
   "execution_count": 1,
   "id": "b5ba65e0",
   "metadata": {},
   "outputs": [],
   "source": [
    "def convert_to_binary(channel_tag,channel_count):\n",
    "    \"\"\" We need to conver the channel tag index into a binary number for the pulse blaster\n",
    "        it's better to do this now than later because, later would require for loops on the experiments methods\n",
    "        and it will be inneficient.\n",
    "\n",
    "        Given the total number of channels and a target channel_tag (index),\n",
    "        return the decimal value corresponding to only that channel being activated.\n",
    "\n",
    "        Args:\n",
    "            channel_count (int): Total number of channels (length of the bitmask).\n",
    "            channel_tag (int): Index of the channel to activate (0-based).\n",
    "\n",
    "        Returns:\n",
    "            int: Decimal value of the binary number with only channel_tag set to 1.\n",
    "        \"\"\"\n",
    "    if channel_tag >= channel_count or channel_tag < 0:\n",
    "        raise ValueError(\"channel_tag must be within the range of available channels.\")\n",
    "\n",
    "    binary = [0] * channel_count\n",
    "    binary[-(channel_tag + 1)] = 1  # Activate the correct bit from the right\n",
    "    binary_str = ''.join(map(str, binary))\n",
    "    decimal= int(binary_str, 2)\n",
    "    return decimal\n",
    "    "
   ]
  },
  {
   "cell_type": "code",
   "execution_count": 3,
   "id": "75592a4d",
   "metadata": {},
   "outputs": [
    {
     "name": "stdout",
     "output_type": "stream",
     "text": [
      "0b1000000000000000000\n",
      "14680064\n",
      "0b111001000000000000000000\n"
     ]
    }
   ],
   "source": [
    "value = convert_to_binary(18, 21)\n",
    "ON = 0xE00000\n",
    "bvalue = bin(value)\n",
    "print(bvalue)\n",
    "print(ON)\n",
    "print(bin(ON | value))"
   ]
  },
  {
   "cell_type": "code",
   "execution_count": 4,
   "id": "5c6f1ca3",
   "metadata": {},
   "outputs": [],
   "source": [
    "from qudi.hardware import spinapi"
   ]
  },
  {
   "cell_type": "code",
   "execution_count": 15,
   "id": "49058c99",
   "metadata": {},
   "outputs": [
    {
     "data": {
      "text/plain": [
       "0"
      ]
     },
     "execution_count": 15,
     "metadata": {},
     "output_type": "execute_result"
    }
   ],
   "source": [
    "spinapi.pb_close()\n",
    "spinapi.pb_select_board(0)\n",
    "spinapi.pb_init()\n",
    "spinapi.pb_reset()\n",
    "\n",
    "spinapi.pb_core_clock(500)\n",
    "\n",
    "spinapi.pb_start_programming(spinapi.PULSE_PROGRAM)\n",
    "start = spinapi.pb_inst_pbonly(spinapi.ON | 0x01, spinapi.CONTINUE, 0, 20.0 * spinapi.ms)\n",
    "spinapi.pb_inst_pbonly(0x00, spinapi.BRANCH, 0, 20.0 * spinapi.ms)\n",
    "\n",
    "spinapi.pb_stop_programming()\n",
    "spinapi.pb_start()\n",
    "\n",
    "\n",
    "spinapi.pb_stop()\n",
    "\n",
    "spinapi.pb_close()\n"
   ]
  },
  {
   "cell_type": "code",
   "execution_count": 14,
   "id": "b7c6191d",
   "metadata": {},
   "outputs": [
    {
     "data": {
      "text/plain": [
       "0"
      ]
     },
     "execution_count": 14,
     "metadata": {},
     "output_type": "execute_result"
    }
   ],
   "source": [
    "spinapi.pb_stop()"
   ]
  }
 ],
 "metadata": {
  "kernelspec": {
   "display_name": "venv",
   "language": "python",
   "name": "python3"
  },
  "language_info": {
   "codemirror_mode": {
    "name": "ipython",
    "version": 3
   },
   "file_extension": ".py",
   "mimetype": "text/x-python",
   "name": "python",
   "nbconvert_exporter": "python",
   "pygments_lexer": "ipython3",
   "version": "3.10.11"
  }
 },
 "nbformat": 4,
 "nbformat_minor": 5
}
