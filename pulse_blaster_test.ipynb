{
 "cells": [
  {
   "cell_type": "code",
   "execution_count": 33,
   "id": "5c6f1ca3",
   "metadata": {},
   "outputs": [],
   "source": [
    "from qudi.hardware import spinapi"
   ]
  },
  {
   "cell_type": "code",
   "execution_count": 75,
   "id": "49058c99",
   "metadata": {},
   "outputs": [
    {
     "data": {
      "text/plain": [
       "0"
      ]
     },
     "execution_count": 75,
     "metadata": {},
     "output_type": "execute_result"
    }
   ],
   "source": [
    "spinapi.pb_close()\n",
    "spinapi.pb_select_board(0)\n",
    "spinapi.pb_init()\n",
    "spinapi.pb_reset()\n",
    "\n",
    "spinapi.pb_core_clock(500)\n",
    "\n",
    "spinapi.pb_start_programming(spinapi.PULSE_PROGRAM)\n",
    "start = spinapi.pb_inst_pbonly(spinapi.ON | 0x01, spinapi.CONTINUE, 0, 20.0 * spinapi.ms)\n",
    "spinapi.pb_inst_pbonly(0x00, spinapi.BRANCH, 0, 20.0 * spinapi.ms)\n",
    "\n",
    "spinapi.pb_stop_programming()\n",
    "spinapi.pb_start()\n",
    "\n",
    "\n",
    "spinapi.pb_stop()\n",
    "\n",
    "spinapi.pb_close()\n"
   ]
  },
  {
   "cell_type": "code",
   "execution_count": null,
   "id": "b7c6191d",
   "metadata": {},
   "outputs": [
    {
     "ename": "OSError",
     "evalue": "exception: access violation reading 0xFFFFFFFFFFFFFFFF",
     "output_type": "error",
     "traceback": [
      "\u001b[1;31m---------------------------------------------------------------------------\u001b[0m",
      "\u001b[1;31mOSError\u001b[0m                                   Traceback (most recent call last)",
      "Cell \u001b[1;32mIn[68], line 1\u001b[0m\n\u001b[1;32m----> 1\u001b[0m \u001b[43mspinapi\u001b[49m\u001b[38;5;241;43m.\u001b[39;49m\u001b[43mpb_stop\u001b[49m\u001b[43m(\u001b[49m\u001b[43m)\u001b[49m\n",
      "File \u001b[1;32mC:\\EXP\\python\\Qoptics_exp\\src\\qudi\\hardware\\spinapi.py:500\u001b[0m, in \u001b[0;36mpb_stop\u001b[1;34m()\u001b[0m\n\u001b[0;32m    499\u001b[0m \u001b[38;5;28;01mdef\u001b[39;00m \u001b[38;5;21mpb_stop\u001b[39m():\n\u001b[1;32m--> 500\u001b[0m     \u001b[38;5;28;01mreturn\u001b[39;00m \u001b[43mspinapi\u001b[49m\u001b[38;5;241;43m.\u001b[39;49m\u001b[43mpb_stop\u001b[49m\u001b[43m(\u001b[49m\u001b[43m)\u001b[49m\n",
      "\u001b[1;31mOSError\u001b[0m: exception: access violation reading 0xFFFFFFFFFFFFFFFF"
     ]
    }
   ],
   "source": []
  }
 ],
 "metadata": {
  "kernelspec": {
   "display_name": "venv",
   "language": "python",
   "name": "python3"
  },
  "language_info": {
   "codemirror_mode": {
    "name": "ipython",
    "version": 3
   },
   "file_extension": ".py",
   "mimetype": "text/x-python",
   "name": "python",
   "nbconvert_exporter": "python",
   "pygments_lexer": "ipython3",
   "version": "3.10.11"
  }
 },
 "nbformat": 4,
 "nbformat_minor": 5
}
