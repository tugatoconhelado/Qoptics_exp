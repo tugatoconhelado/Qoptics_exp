{
 "cells": [
  {
   "cell_type": "code",
   "execution_count": 1,
   "metadata": {},
   "outputs": [],
   "source": [
    "import bh_spc\n",
    "from bh_spc import spcm\n",
    "\n",
    "import time\n",
    "import matplotlib.pyplot as plt\n",
    "import numpy as np"
   ]
  },
  {
   "cell_type": "code",
   "execution_count": 2,
   "metadata": {},
   "outputs": [],
   "source": [
    "spcm.init(r'C:\\EXP\\python\\Qoptics_exp\\new_settings.ini')"
   ]
  },
  {
   "cell_type": "code",
   "execution_count": 3,
   "metadata": {},
   "outputs": [],
   "source": [
    "mod_no = 0"
   ]
  },
  {
   "cell_type": "code",
   "execution_count": 18,
   "metadata": {},
   "outputs": [
    {
     "name": "stdout",
     "output_type": "stream",
     "text": [
      "True\n"
     ]
    }
   ],
   "source": [
    "spcm.get_init_status(mod_no)\n",
    "spcm.set_mode(spcm.DLLOperationMode.HARDWARE, True, [True])\n",
    "status = spcm.get_init_status(mod_no)\n",
    "print(status == spcm.InitStatus.OK)"
   ]
  },
  {
   "cell_type": "code",
   "execution_count": 5,
   "metadata": {},
   "outputs": [],
   "source": [
    "spcm.set_parameter(mod_no, spcm.ParID.MODE, 1)"
   ]
  },
  {
   "cell_type": "code",
   "execution_count": 23,
   "metadata": {},
   "outputs": [
    {
     "name": "stdout",
     "output_type": "stream",
     "text": [
      "<Data(cfd_limit_low=-49.01960754394531, cfd_limit_high=5.019608020782471, cfd_zc_level=-9.82677173614502, cfd_holdoff=5.0, sync_zc_level=-9.82677173614502, sync_freq_div=4, sync_holdoff=4.0, sync_threshold=-41.17647171020508, tac_range=50.033573150634766, tac_gain=1, tac_offset=3.9215686321258545, tac_limit_low=4.705882549285889, tac_limit_high=92.94117736816406, adc_resolution=12, ext_latch_delay=0, collect_time=3.0, display_time=1.0, repeat_time=300.0, stop_on_time=0, stop_on_ovfl=0, dither_range=128, count_incr=1, mem_bank=0, dead_time_comp=0, scan_control=0, routing_mode=0, tac_enable_hold=0.0, mode=1, scan_size_x=1, scan_size_y=1, scan_rout_x=1, scan_rout_y=1, scan_polarity=0, scan_flyback=65537, scan_borders=0, pixel_time=2.0000000233721948e-07, pixel_clock=0, line_compression=1, trigger=0, ext_pixclk_div=1, rate_count_time=1.0, macro_time_clk=0, add_select=0, adc_zoom=0, xy_gain=1, img_size_x=1, img_size_y=1, img_rout_x=1, img_rout_y=1, master_clock=0, adc_sample_delay=0, detector_type=1, tdc_control=0, chan_enable=4191231, chan_slope=16777215, chan_spec_no=34835, tdc_offset1=0.0, tdc_offset2=0.0, tdc_offset3=0.0, tdc_offset4=0.0)>\n"
     ]
    }
   ],
   "source": [
    "params = spcm.get_parameters(mod_no)\n",
    "\n",
    "#for par, val in params.items():\n",
    "#    print(f\"{par} = {val}\")\n",
    "\n",
    "print(params)"
   ]
  },
  {
   "cell_type": "code",
   "execution_count": 24,
   "metadata": {},
   "outputs": [],
   "source": [
    "# For this demonstration, we will turn off `stop_on_time`, mostly because it\n",
    "# does not appear to work in simulation mode. By turning it off, running this\n",
    "# example on real hardware should behave the same way.\n",
    "params.stop_on_time = 1\n",
    "\n",
    "# (Set other parameters here!)\n",
    "\n",
    "spcm.set_parameters(mod_no, params)"
   ]
  },
  {
   "cell_type": "code",
   "execution_count": 25,
   "metadata": {},
   "outputs": [],
   "source": [
    "duration = 3 # s\n",
    "buf_size = 32768  # Max number of 16-bit words in a single read.\n",
    "\n",
    "spcm.start_measurement(mod_no)\n",
    "start_time = time.monotonic()\n",
    "\n",
    "data = []  # Collect arrays of data into a list.\n",
    "while True:\n",
    "    elapsed = time.monotonic() - start_time\n",
    "    if elapsed >= duration:\n",
    "        spcm.stop_measurement(mod_no)\n",
    "        break\n",
    "    buf = spcm.read_fifo_to_array(mod_no, buf_size)\n",
    "    if len(buf):\n",
    "        data.append(buf)\n",
    "    if len(buf) < buf_size:  # We've read all there is to read.\n",
    "        time.sleep(0.001)\n",
    "\n",
    "# Make sure to read the data that arrived after stopping (if you need it).\n",
    "while True:\n",
    "    buf = spcm.read_fifo_to_array(mod_no, buf_size)\n",
    "    if not len(buf):\n",
    "        break\n",
    "    data.append(buf)"
   ]
  },
  {
   "cell_type": "code",
   "execution_count": 26,
   "metadata": {},
   "outputs": [
    {
     "data": {
      "text/plain": [
       "37136"
      ]
     },
     "execution_count": 26,
     "metadata": {},
     "output_type": "execute_result"
    }
   ],
   "source": [
    "records = np.concatenate(data).view(np.uint32)\n",
    "len(records)"
   ]
  },
  {
   "cell_type": "code",
   "execution_count": 27,
   "metadata": {},
   "outputs": [
    {
     "name": "stdout",
     "output_type": "stream",
     "text": [
      "There was no gap\n"
     ]
    }
   ],
   "source": [
    "had_gap = np.any(np.bitwise_and(records, 1 << 29))\n",
    "print(\"There was {} gap\".format(\"a\" if had_gap else \"no\"))"
   ]
  },
  {
   "cell_type": "code",
   "execution_count": 28,
   "metadata": {},
   "outputs": [
    {
     "data": {
      "text/plain": [
       "25579"
      ]
     },
     "execution_count": 28,
     "metadata": {},
     "output_type": "execute_result"
    }
   ],
   "source": [
    "photons = np.extract(np.bitwise_and(records, 0b1001 << 28) == 0, records)\n",
    "len(photons)"
   ]
  },
  {
   "cell_type": "code",
   "execution_count": 29,
   "metadata": {},
   "outputs": [],
   "source": [
    "max_12bit = (1 << 12) - 1  # 4095\n",
    "microtimes = np.bitwise_and(np.right_shift(photons, 16), max_12bit)\n",
    "\n",
    "# Reverse the microtimes by subtracting from the max value, because the raw\n",
    "# microtime is measured from photon to SYNC, not SYNC to photon.\n",
    "microtimes = max_12bit - microtimes\n",
    "\n",
    "#h = plt.hist(microtimes, bins=64)"
   ]
  },
  {
   "cell_type": "code",
   "execution_count": 30,
   "metadata": {},
   "outputs": [
    {
     "data": {
      "image/png": "[encoded data removed]",
      "text/plain": [
       "<Figure size 640x480 with 1 Axes>"
      ]
     },
     "metadata": {},
     "output_type": "display_data"
    }
   ],
   "source": [
    "time_bins = np.arange(4096) #* data.tac_range / 4096\n",
    "histogram, bin_edges = np.histogram(microtimes, bins=time_bins)\n",
    "bin_edges = bin_edges[:-1] * params.tac_range / 4096\n",
    "plt.plot(bin_edges, histogram)\n",
    "plt.show()"
   ]
  }
 ],
 "metadata": {
  "kernelspec": {
   "display_name": "venv",
   "language": "python",
   "name": "python3"
  },
  "language_info": {
   "codemirror_mode": {
    "name": "ipython",
    "version": 3
   },
   "file_extension": ".py",
   "mimetype": "text/x-python",
   "name": "python",
   "nbconvert_exporter": "python",
   "pygments_lexer": "ipython3",
   "version": "3.10.11"
  }
 },
 "nbformat": 4,
 "nbformat_minor": 2
}
