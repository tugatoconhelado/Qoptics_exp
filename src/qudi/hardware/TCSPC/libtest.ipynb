{
 "cells": [
  {
   "cell_type": "code",
   "execution_count": 1,
   "metadata": {},
   "outputs": [],
   "source": [
    "import bh_spc\n",
    "from bh_spc import spcm\n",
    "\n",
    "import time\n",
    "import matplotlib.pyplot as plt\n",
    "import numpy as np"
   ]
  },
  {
   "cell_type": "code",
   "execution_count": 3,
   "metadata": {},
   "outputs": [],
   "source": [
    "with bh_spc.ini_file(\n",
    "    bh_spc.minimal_spcm_ini(spcm.DLLOperationMode.SIMULATE_SPC_130EM)\n",
    ") as ini:\n",
    "    spcm.init(ini)"
   ]
  },
  {
   "cell_type": "code",
   "execution_count": 4,
   "metadata": {},
   "outputs": [],
   "source": [
    "mod_no = 0"
   ]
  },
  {
   "cell_type": "code",
   "execution_count": 5,
   "metadata": {},
   "outputs": [
    {
     "data": {
      "text/plain": [
       "<InitStatus.OK: 0>"
      ]
     },
     "execution_count": 5,
     "metadata": {},
     "output_type": "execute_result"
    }
   ],
   "source": [
    "spcm.get_init_status(mod_no)"
   ]
  },
  {
   "cell_type": "code",
   "execution_count": 6,
   "metadata": {},
   "outputs": [],
   "source": [
    "spcm.set_parameter(mod_no, spcm.ParID.MODE, 1)"
   ]
  },
  {
   "cell_type": "code",
   "execution_count": 7,
   "metadata": {},
   "outputs": [
    {
     "name": "stdout",
     "output_type": "stream",
     "text": [
      "cfd_limit_low = -0.0\n",
      "cfd_limit_high = 80.0\n",
      "cfd_zc_level = 0.0\n",
      "cfd_holdoff = 5.0\n",
      "sync_zc_level = 0.0\n",
      "sync_freq_div = 4\n",
      "sync_holdoff = 4.0\n",
      "sync_threshold = -19.60784339904785\n",
      "tac_range = 50.033573150634766\n",
      "tac_gain = 1\n",
      "tac_offset = 0.0\n",
      "tac_limit_low = 10.196078300476074\n",
      "tac_limit_high = 80.0\n",
      "adc_resolution = 12\n",
      "ext_latch_delay = 0\n",
      "collect_time = 0.009999999776482582\n",
      "display_time = 1.0\n",
      "repeat_time = 10.0\n",
      "stop_on_time = 1\n",
      "stop_on_ovfl = 1\n",
      "dither_range = 0\n",
      "count_incr = 1\n",
      "mem_bank = 0\n",
      "dead_time_comp = 0\n",
      "scan_control = 0\n",
      "routing_mode = 0\n",
      "tac_enable_hold = 0.0\n",
      "mode = 1\n",
      "scan_size_x = 1\n",
      "scan_size_y = 1\n",
      "scan_rout_x = 1\n",
      "scan_rout_y = 1\n",
      "scan_polarity = 0\n",
      "scan_flyback = 65537\n",
      "scan_borders = 0\n",
      "pixel_time = 2.0000000233721948e-07\n",
      "pixel_clock = 0\n",
      "line_compression = 1\n",
      "trigger = 0\n",
      "ext_pixclk_div = 1\n",
      "rate_count_time = 1.0\n",
      "macro_time_clk = 0\n",
      "add_select = 0\n",
      "adc_zoom = 0\n",
      "xy_gain = 1\n",
      "img_size_x = 1\n",
      "img_size_y = 1\n",
      "img_rout_x = 1\n",
      "img_rout_y = 1\n",
      "master_clock = 2\n",
      "adc_sample_delay = 0\n",
      "detector_type = 1\n",
      "tdc_control = 0\n",
      "chan_enable = 4191231\n",
      "chan_slope = 0\n",
      "chan_spec_no = 34835\n",
      "tdc_offset1 = 0.0\n",
      "tdc_offset2 = 0.0\n",
      "tdc_offset3 = 0.0\n",
      "tdc_offset4 = 0.0\n"
     ]
    }
   ],
   "source": [
    "params = spcm.get_parameters(mod_no)\n",
    "\n",
    "for par, val in params.items():\n",
    "    print(f\"{par} = {val}\")"
   ]
  },
  {
   "cell_type": "code",
   "execution_count": 8,
   "metadata": {},
   "outputs": [],
   "source": [
    "# For this demonstration, we will turn off `stop_on_time`, mostly because it\n",
    "# does not appear to work in simulation mode. By turning it off, running this\n",
    "# example on real hardware should behave the same way.\n",
    "params.stop_on_time = 0\n",
    "\n",
    "# (Set other parameters here!)\n",
    "\n",
    "spcm.set_parameters(mod_no, params)"
   ]
  },
  {
   "cell_type": "code",
   "execution_count": 9,
   "metadata": {},
   "outputs": [],
   "source": [
    "duration = 0.1  # s\n",
    "buf_size = 32768  # Max number of 16-bit words in a single read.\n",
    "\n",
    "spcm.start_measurement(mod_no)\n",
    "start_time = time.monotonic()\n",
    "\n",
    "data = []  # Collect arrays of data into a list.\n",
    "while True:\n",
    "    elapsed = time.monotonic() - start_time\n",
    "    if elapsed >= duration:\n",
    "        spcm.stop_measurement(mod_no)\n",
    "        break\n",
    "    buf = spcm.read_fifo_to_array(mod_no, buf_size)\n",
    "    if len(buf):\n",
    "        data.append(buf)\n",
    "    if len(buf) < buf_size:  # We've read all there is to read.\n",
    "        time.sleep(0.001)\n",
    "\n",
    "# Make sure to read the data that arrived after stopping (if you need it).\n",
    "while True:\n",
    "    buf = spcm.read_fifo_to_array(mod_no, buf_size)\n",
    "    if not len(buf):\n",
    "        break\n",
    "    data.append(buf)"
   ]
  },
  {
   "cell_type": "code",
   "execution_count": 10,
   "metadata": {},
   "outputs": [
    {
     "data": {
      "text/plain": [
       "458787"
      ]
     },
     "execution_count": 10,
     "metadata": {},
     "output_type": "execute_result"
    }
   ],
   "source": [
    "records = np.concatenate(data).view(np.uint32)\n",
    "len(records)"
   ]
  },
  {
   "cell_type": "code",
   "execution_count": 11,
   "metadata": {},
   "outputs": [
    {
     "name": "stdout",
     "output_type": "stream",
     "text": [
      "There was no gap\n"
     ]
    }
   ],
   "source": [
    "had_gap = np.any(np.bitwise_and(records, 1 << 29))\n",
    "print(\"There was {} gap\".format(\"a\" if had_gap else \"no\"))"
   ]
  },
  {
   "cell_type": "code",
   "execution_count": 17,
   "metadata": {},
   "outputs": [
    {
     "data": {
      "text/plain": [
       "array([ 454, 1662, 1921, ..., 2391, 2038, 1505], dtype=uint32)"
      ]
     },
     "execution_count": 17,
     "metadata": {},
     "output_type": "execute_result"
    }
   ],
   "source": [
    "photons = np.extract(np.bitwise_and(records, 0b1001 << 28) == 0, records)\n",
    "len(photons)\n",
    "np.right_shift(photons, 16)"
   ]
  },
  {
   "cell_type": "code",
   "execution_count": 13,
   "metadata": {},
   "outputs": [
    {
     "data": {
      "image/png": "[encoded data removed]",
      "text/plain": [
       "<Figure size 640x480 with 1 Axes>"
      ]
     },
     "metadata": {},
     "output_type": "display_data"
    }
   ],
   "source": [
    "max_12bit = (1 << 12) - 1  # 4095\n",
    "microtimes = np.bitwise_and(np.right_shift(photons, 16), max_12bit)\n",
    "\n",
    "# Reverse the microtimes by subtracting from the max value, because the raw\n",
    "# microtime is measured from photon to SYNC, not SYNC to photon.\n",
    "microtimes = max_12bit - microtimes\n",
    "\n",
    "h = plt.hist(microtimes, bins=64)"
   ]
  }
 ],
 "metadata": {
  "kernelspec": {
   "display_name": "venv",
   "language": "python",
   "name": "python3"
  },
  "language_info": {
   "codemirror_mode": {
    "name": "ipython",
    "version": 3
   },
   "file_extension": ".py",
   "mimetype": "text/x-python",
   "name": "python",
   "nbconvert_exporter": "python",
   "pygments_lexer": "ipython3",
   "version": "3.10.8"
  }
 },
 "nbformat": 4,
 "nbformat_minor": 2
}
