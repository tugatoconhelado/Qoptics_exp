{
 "cells": [
  {
   "cell_type": "code",
   "execution_count": 1,
   "metadata": {},
   "outputs": [],
   "source": [
    "from ctypes import (\n",
    "    CDLL, POINTER, c_char_p, c_bool, c_double, c_int,\n",
    "    c_short, c_void_p, c_float, c_ushort, Structure,\n",
    "    c_ulong, c_long, c_uint, c_uint64, byref\n",
    ")\n",
    "from qudi.hardware.tcspc.spc_def import (\n",
    "    SPCdata, SPCModInfo, SPC_EEP_Data, SPC_Adjust_Para,\n",
    "    SPCMemConfig, PhotStreamInfo, PhotInfo, PhotInfo64,\n",
    "    rate_values\n",
    ")\n",
    "import time\n",
    "from qudi.hardware.tcspc.tcspc import SPCDllWrapper\n",
    "import os"
   ]
  },
  {
   "cell_type": "code",
   "execution_count": 4,
   "metadata": {},
   "outputs": [
    {
     "name": "stdout",
     "output_type": "stream",
     "text": [
      "Init status: 0 with args: C:\\EXP\\python\\Qoptics_exp\\new_settings.ini\n",
      "Init status of module 0: -6 with args: c_short(0)\n",
      "Get mode status: 0 with mode: c_short(0) and force_use: c_short(1) and in_use: c_long(1)\n",
      "Init status of module 0: 0 with args: c_short(0)\n",
      "Get parameters status: 0 with mod_no: c_short(0) and data collect time: 3.0\n"
     ]
    }
   ],
   "source": [
    "tcspc = SPCDllWrapper()\n",
    "\n",
    "ini_file_path = os.path.abspath(r'C:\\EXP\\python\\Qoptics_exp\\new_settings.ini')\n",
    "init_status, args = tcspc.SPC_init(ini_file_path)\n",
    "print(f'Init status: {init_status} with args: {args}')\n",
    "\n",
    "module_no = 0\n",
    "init_status, args = tcspc.SPC_get_init_status(module_no)\n",
    "print(f'Init status of module {module_no}: {init_status} with args: {args}')\n",
    "\n",
    "status, mode, force_use, in_use = tcspc.SPC_set_mode(0, 1, 1)\n",
    "print(f'Get mode status: {status} with mode: {mode} and force_use: {force_use} and in_use: {in_use}')\n",
    "\n",
    "init_status, args = tcspc.SPC_get_init_status(module_no)\n",
    "print(f'Init status of module {module_no}: {init_status} with args: {args}')\n",
    "\n",
    "status, mod_no, data = tcspc.SPC_get_parameters(module_no)\n",
    "print(f'Get parameters status: {status} with mod_no: {mod_no} and data collect time: {data.collect_time}')"
   ]
  },
  {
   "cell_type": "code",
   "execution_count": 7,
   "metadata": {},
   "outputs": [
    {
     "name": "stdout",
     "output_type": "stream",
     "text": [
      "Configure memory status: 0 with adc_resolution: c_short(10), no_of_routing_bits: c_short(3) and mem_info: <qudi.hardware.TCSPC.spc_def.SPCMemConfig object at 0x00000283305F6DC0>\n",
      "Set page status: 0 with mod_no: c_short(0) and page: c_long(0)\n",
      "Fill memory status: 0 with block: c_short(0), page: c_long(0) and fill_value: c_ushort(1)\n"
     ]
    }
   ],
   "source": [
    "status, mod_no, adc_resolution, no_of_routing_bits, mem_info = tcspc.SPC_configure_memory(module_no, 10, 3, SPCMemConfig())\n",
    "print(f'Configure memory status: {status} with adc_resolution: {adc_resolution}, no_of_routing_bits: {no_of_routing_bits} and mem_info: {mem_info}')\n",
    "no_of_blocks = mem_info.max_block_no\n",
    "\n",
    "page_no = 0\n",
    "\n",
    "status, mod_no, page = tcspc.SPC_set_page(module_no, page_no)\n",
    "print(f'Set page status: {status} with mod_no: {mod_no} and page: {page}')\n",
    "\n",
    "status, block, mod_no, page, fill_value = tcspc.SPC_fill_memory(module_no, 0, page_no, 1)\n",
    "print(f'Fill memory status: {status} with block: {block}, page: {page} and fill_value: {fill_value}')"
   ]
  },
  {
   "cell_type": "code",
   "execution_count": 8,
   "metadata": {},
   "outputs": [
    {
     "name": "stdout",
     "output_type": "stream",
     "text": [
      "Max block no: 4096\n",
      "Blocks per frame: 8\n",
      "Frames per page: 1\n",
      "Max page: 512\n",
      "Block length: 1024\n",
      "No of points: 1024\n"
     ]
    }
   ],
   "source": [
    "red_factor = 1\n",
    "no_of_points = int(mem_info.block_length / red_factor)\n",
    "print(f'Max block no: {mem_info.max_block_no}')\n",
    "print(f'Blocks per frame: {mem_info.blocks_per_frame}')\n",
    "print(f'Frames per page: {mem_info.frames_per_page}')\n",
    "print(f'Max page: {mem_info.maxpage}')\n",
    "print(f'Block length: {mem_info.block_length}')\n",
    "print(f'No of points: {no_of_points}')\n",
    "data_buffer = (c_ushort * no_of_points)()"
   ]
  },
  {
   "cell_type": "code",
   "execution_count": null,
   "metadata": {},
   "outputs": [
    {
     "ename": "",
     "evalue": "",
     "output_type": "error",
     "traceback": [
      "\u001b[1;31mThe Kernel crashed while executing code in the current cell or a previous cell. \n",
      "\u001b[1;31mPlease review the code in the cell(s) to identify a possible cause of the failure. \n",
      "\u001b[1;31mClick <a href='https://aka.ms/vscodeJupyterKernelCrash'>here</a> for more info. \n",
      "\u001b[1;31mView Jupyter <a href='command:jupyter.viewOutput'>log</a> for further details."
     ]
    }
   ],
   "source": [
    "status, mod_no = tcspc.SPC_start_measurement(module_no)\n",
    "print(f'Start measurement status: {status} with mod_no: {mod_no}')\n",
    "\n",
    "state_var = c_short()\n",
    "status, mod_no, state = tcspc.SPC_test_state(module_no, state_var)\n",
    "print(f'Test state status: {status} with mod_no: {mod_no} and state: {bytes(state)}')\n",
    "tcspc.translate_status(state)\n",
    "\n",
    "print('Sleeping for a sec')\n",
    "time.sleep(1)\n",
    "\n",
    "state_var = c_short()\n",
    "status, mod_no, state = tcspc.SPC_test_state(module_no, state_var)\n",
    "print(f'Test state status: {status} with mod_no: {mod_no} and state: {bytes(state)}')\n",
    "tcspc.translate_status(state)\n",
    "\n",
    "status, mod_no, block, page, reduction_factor, var_from, var_to, data = tcspc.SPC_read_data_block(module_no, 0, page_no, red_factor, 0, no_of_points - 1, data_buffer)\n",
    "print(f'Read data block status: {status} with mod_no: {mod_no}, block: {block}, page: {page}, reduction_factor: {reduction_factor}, var_from: {var_from}, var_to: {var_to} and data: {data}')\n",
    "print(f'Data list: {list(data_buffer)}')\n",
    "\n",
    "#plt.plot(data_buffer)\n",
    "#plt.show()"
   ]
  }
 ],
 "metadata": {
  "kernelspec": {
   "display_name": "venv",
   "language": "python",
   "name": "python3"
  },
  "language_info": {
   "codemirror_mode": {
    "name": "ipython",
    "version": 3
   },
   "file_extension": ".py",
   "mimetype": "text/x-python",
   "name": "python",
   "nbconvert_exporter": "python",
   "pygments_lexer": "ipython3",
   "version": "3.10.11"
  }
 },
 "nbformat": 4,
 "nbformat_minor": 2
}
