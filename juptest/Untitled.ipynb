{
 "cells": [
  {
   "cell_type": "code",
   "execution_count": 1,
   "id": "d9ab00e3-9d86-4d9c-a62f-a804fd651c28",
   "metadata": {},
   "outputs": [
    {
     "data": {
      "text/plain": [
       "<qudi.core.application.Qudi(0x1f5305b1940) at 0x000001F5326CF6C0>"
      ]
     },
     "execution_count": 1,
     "metadata": {},
     "output_type": "execute_result"
    }
   ],
   "source": [
    "qudi"
   ]
  },
  {
   "cell_type": "code",
   "execution_count": 9,
   "id": "63f50556-0e8f-4dff-8eec-94a78c5e6e04",
   "metadata": {},
   "outputs": [],
   "source": [
    "template_gui._subtract_ten()"
   ]
  },
  {
   "cell_type": "code",
   "execution_count": null,
   "id": "69de4330-ed0a-4147-b5fe-4216e1368a35",
   "metadata": {},
   "outputs": [],
   "source": []
  },
  {
   "cell_type": "code",
   "execution_count": null,
   "id": "10375d46-d0cf-4560-b2a2-ee2cec68d6e0",
   "metadata": {},
   "outputs": [],
   "source": []
  }
 ],
 "metadata": {
  "kernelspec": {
   "display_name": "qudi",
   "language": "python",
   "name": "qudi"
  },
  "language_info": {
   "codemirror_mode": {
    "name": "ipython",
    "version": 3
   },
   "file_extension": ".py",
   "mimetype": "text/x-python",
   "name": "python",
   "nbconvert_exporter": "python",
   "pygments_lexer": "ipython3",
   "version": "3.10.8"
  }
 },
 "nbformat": 4,
 "nbformat_minor": 5
}
